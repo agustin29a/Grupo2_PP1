{
 "cells": [
  {
   "cell_type": "code",
   "execution_count": 2,
   "id": "40b4571c",
   "metadata": {
    "executionInfo": {
     "elapsed": 897,
     "status": "ok",
     "timestamp": 1693525862481,
     "user": {
      "displayName": "Mariano Vila",
      "userId": "06303620420666370053"
     },
     "user_tz": 180
    },
    "id": "40b4571c"
   },
   "outputs": [],
   "source": [
    "import pandas as pd\n",
    "import numpy as np\n",
    "import matplotlib.pyplot as plt\n",
    "import seaborn as sns\n",
    "\n",
    "from sklearn.preprocessing import StandardScaler\n",
    "from imblearn.under_sampling import NearMiss\n",
    "from imblearn.over_sampling import RandomOverSampler\n",
    "from imblearn.combine import SMOTETomek\n",
    "from imblearn.ensemble import BalancedBaggingClassifier\n",
    "\n",
    " \n",
    "from collections import Counter\n",
    "\n",
    "from sklearn.model_selection import train_test_split\n",
    "from sklearn.linear_model import LogisticRegression\n",
    "from sklearn import model_selection as model_sel\n",
    "from sklearn.metrics import confusion_matrix, ConfusionMatrixDisplay\n",
    "from sklearn.metrics import accuracy_score, classification_report\n",
    "from sklearn.metrics import precision_score\n",
    "from sklearn.metrics import recall_score\n",
    "from sklearn.metrics import f1_score\n",
    "from sklearn.metrics import RocCurveDisplay\n",
    "from sklearn.metrics import PrecisionRecallDisplay"
   ]
  },
  {
   "cell_type": "markdown",
   "id": "e5534ec2",
   "metadata": {
    "id": "e5534ec2"
   },
   "source": [
    "## OBTENER DATOS"
   ]
  },
  {
   "cell_type": "code",
   "execution_count": 3,
   "id": "ca69c5cc",
   "metadata": {
    "colab": {
     "base_uri": "https://localhost:8080/",
     "height": 338
    },
    "executionInfo": {
     "elapsed": 312,
     "status": "error",
     "timestamp": 1693525872639,
     "user": {
      "displayName": "Mariano Vila",
      "userId": "06303620420666370053"
     },
     "user_tz": 180
    },
    "id": "ca69c5cc",
    "outputId": "c18afe9b-77ce-4b73-ecb2-a8b23cb6bee4",
    "scrolled": true
   },
   "outputs": [
    {
     "data": {
      "text/html": [
       "<div>\n",
       "<style scoped>\n",
       "    .dataframe tbody tr th:only-of-type {\n",
       "        vertical-align: middle;\n",
       "    }\n",
       "\n",
       "    .dataframe tbody tr th {\n",
       "        vertical-align: top;\n",
       "    }\n",
       "\n",
       "    .dataframe thead th {\n",
       "        text-align: right;\n",
       "    }\n",
       "</style>\n",
       "<table border=\"1\" class=\"dataframe\">\n",
       "  <thead>\n",
       "    <tr style=\"text-align: right;\">\n",
       "      <th></th>\n",
       "      <th>Pregnancies</th>\n",
       "      <th>Glucose</th>\n",
       "      <th>BloodPressure</th>\n",
       "      <th>SkinThickness</th>\n",
       "      <th>Insulin</th>\n",
       "      <th>BMI</th>\n",
       "      <th>DiabetesPedigreeFunction</th>\n",
       "      <th>Age</th>\n",
       "      <th>Outcome</th>\n",
       "    </tr>\n",
       "  </thead>\n",
       "  <tbody>\n",
       "    <tr>\n",
       "      <th>0</th>\n",
       "      <td>6</td>\n",
       "      <td>148</td>\n",
       "      <td>72</td>\n",
       "      <td>35</td>\n",
       "      <td>0</td>\n",
       "      <td>33.6</td>\n",
       "      <td>0.627</td>\n",
       "      <td>50</td>\n",
       "      <td>1</td>\n",
       "    </tr>\n",
       "    <tr>\n",
       "      <th>1</th>\n",
       "      <td>1</td>\n",
       "      <td>85</td>\n",
       "      <td>66</td>\n",
       "      <td>29</td>\n",
       "      <td>0</td>\n",
       "      <td>26.6</td>\n",
       "      <td>0.351</td>\n",
       "      <td>31</td>\n",
       "      <td>0</td>\n",
       "    </tr>\n",
       "    <tr>\n",
       "      <th>2</th>\n",
       "      <td>8</td>\n",
       "      <td>183</td>\n",
       "      <td>64</td>\n",
       "      <td>0</td>\n",
       "      <td>0</td>\n",
       "      <td>23.3</td>\n",
       "      <td>0.672</td>\n",
       "      <td>32</td>\n",
       "      <td>1</td>\n",
       "    </tr>\n",
       "    <tr>\n",
       "      <th>3</th>\n",
       "      <td>1</td>\n",
       "      <td>89</td>\n",
       "      <td>66</td>\n",
       "      <td>23</td>\n",
       "      <td>94</td>\n",
       "      <td>28.1</td>\n",
       "      <td>0.167</td>\n",
       "      <td>21</td>\n",
       "      <td>0</td>\n",
       "    </tr>\n",
       "    <tr>\n",
       "      <th>4</th>\n",
       "      <td>0</td>\n",
       "      <td>137</td>\n",
       "      <td>40</td>\n",
       "      <td>35</td>\n",
       "      <td>168</td>\n",
       "      <td>43.1</td>\n",
       "      <td>2.288</td>\n",
       "      <td>33</td>\n",
       "      <td>1</td>\n",
       "    </tr>\n",
       "  </tbody>\n",
       "</table>\n",
       "</div>"
      ],
      "text/plain": [
       "   Pregnancies  Glucose  BloodPressure  SkinThickness  Insulin   BMI  \\\n",
       "0            6      148             72             35        0  33.6   \n",
       "1            1       85             66             29        0  26.6   \n",
       "2            8      183             64              0        0  23.3   \n",
       "3            1       89             66             23       94  28.1   \n",
       "4            0      137             40             35      168  43.1   \n",
       "\n",
       "   DiabetesPedigreeFunction  Age  Outcome  \n",
       "0                     0.627   50        1  \n",
       "1                     0.351   31        0  \n",
       "2                     0.672   32        1  \n",
       "3                     0.167   21        0  \n",
       "4                     2.288   33        1  "
      ]
     },
     "execution_count": 3,
     "metadata": {},
     "output_type": "execute_result"
    }
   ],
   "source": [
    "df_diabetes=pd.read_csv(\"diabetes.csv\",encoding=\"ISO-8859-1\",delimiter=\",\")\n",
    "df_diabetes.head()"
   ]
  },
  {
   "cell_type": "markdown",
   "id": "25553698",
   "metadata": {},
   "source": [
    "## REGRESIÓN LOGÍSTICA"
   ]
  },
  {
   "cell_type": "markdown",
   "id": "4d9ea6b1",
   "metadata": {},
   "source": [
    "* Pertenece a los modelos de aprendizaje supervisado. \n",
    "* Es un modelo lineal para la clasificación en lugar de la regresión.\n",
    "* La regresión logística es un método estadístico que trata de modelar la probabilidad de una variable cualitativa binaria (dos posibles valores) en función de una o más variables independientes."
   ]
  },
  {
   "cell_type": "markdown",
   "id": "39830a55",
   "metadata": {},
   "source": [
    "**SELECCIONAR CARACTERÍSTICAS**"
   ]
  },
  {
   "cell_type": "code",
   "execution_count": 4,
   "id": "e9fbb560",
   "metadata": {},
   "outputs": [],
   "source": [
    "# Dividir los datos en características (X) y la variable objetivo (y)\n",
    "X = df_diabetes.drop('Outcome', axis=1)  # Características\n",
    "\n",
    "y = df_diabetes['Outcome']  # Variable objetivo"
   ]
  },
  {
   "cell_type": "markdown",
   "id": "7925be39",
   "metadata": {},
   "source": [
    "**1-DIVIDIR DATOS ENTRENAMIENTO Y TEST**    \n",
    "    \n",
    "**2-ESCALAR LOS DATOS**: La estandarización implica transformar las características de     \n",
    "manera que tengan una media de cero y una desviación estándar de uno.    \n",
    "    \n",
    "La fórmula utilizada para lograrlo es la siguiente: 𝑥𝑒𝑠𝑐𝑎𝑙𝑎𝑑𝑜 = 𝑥−𝑚𝑒𝑑𝑖𝑎 / 𝑑𝑒𝑠𝑣𝑖𝑎𝑐𝑖ó𝑛 𝑠𝑡𝑎𝑛𝑑𝑎𝑟𝑑    \n"
   ]
  },
  {
   "cell_type": "code",
   "execution_count": 5,
   "id": "80047a0a",
   "metadata": {},
   "outputs": [],
   "source": [
    "# Dividir el conjunto de datos en conjuntos de entrenamiento y prueba\n",
    "#stratify: La idea detrás de la estratificación es mantener la misma proporción de clases en ambos conjuntos, lo que es especialmente relevante cuando se trabaja con conjuntos de datos desequilibrados.\n",
    "#Shufle: la práctica de presentar los datos al modelo en un orden aleatorio durante la fase de entrenamiento para evitar sesgos y mejorar la generalización y la convergencia del modelo.\n",
    "#stratify=y,\n",
    "\n",
    "X_train, X_test, y_train, y_test = train_test_split(X, y, test_size=0.2,shuffle = True,  random_state=42)\n",
    "\n",
    "# Escalar las características\n",
    "\n",
    "scaler = StandardScaler()\n",
    "X_train = scaler.fit_transform(X_train)\n",
    "X_test = scaler.transform(X_test)"
   ]
  },
  {
   "cell_type": "markdown",
   "id": "ceeba5fe",
   "metadata": {},
   "source": [
    "### ENTRENAMIENTO Y PREDICCIÓN"
   ]
  },
  {
   "cell_type": "code",
   "execution_count": 6,
   "id": "206a7f84",
   "metadata": {},
   "outputs": [],
   "source": [
    "# Crear y entrenar el modelo de regresión logística\n",
    "model = LogisticRegression(random_state=42)\n",
    "model.fit(X_train, y_train)\n",
    "\n",
    "# Realizar predicciones en el conjunto de prueba\n",
    "y_pred = model.predict(X_test)"
   ]
  },
  {
   "cell_type": "code",
   "execution_count": 7,
   "id": "69c3f736",
   "metadata": {},
   "outputs": [
    {
     "name": "stdout",
     "output_type": "stream",
     "text": [
      "Intercept: [-0.88612313]\n"
     ]
    }
   ],
   "source": [
    "# Información del modelo\n",
    "\n",
    "print(\"Intercept:\", model.intercept_)"
   ]
  },
  {
   "cell_type": "code",
   "execution_count": 8,
   "id": "e5240b11",
   "metadata": {},
   "outputs": [
    {
     "name": "stdout",
     "output_type": "stream",
     "text": [
      "[1 0 0]\n",
      "\n",
      " [[  6.    148.     72.     35.      0.     33.6     0.627  50.   ]\n",
      " [  1.     85.     66.     29.      0.     26.6     0.351  31.   ]\n",
      " [  8.    183.     64.      0.      0.     23.3     0.672  32.   ]]\n"
     ]
    }
   ],
   "source": [
    "#probando como me predice eligiendo algunas filas del df\n",
    "\n",
    "X2 = df_diabetes.iloc[0:3,0:8].values  # con values lo paso a array como está el de train y test\n",
    "X2_scaled = scaler.fit_transform(df_diabetes.iloc[0:3, 0:8].values)\n",
    "X2_pred=model.predict(X2_scaled)\n",
    "\n",
    "print(X2_pred)\n",
    "print(\"\\n\",X2)"
   ]
  },
  {
   "cell_type": "markdown",
   "id": "3414a49d",
   "metadata": {},
   "source": [
    "## **EVALUAR EL MODELO**\n",
    "* **MATRIZ DE CONFUSIÓN:** es una tabla que se utiliza en problemas de clasificación para evaluar el rendimiento de un modelo de aprendizaje automático. Esta tabla compara las predicciones del modelo con las clases reales de los datos y muestra cuántos de los resultados fueron clasificados correctamente y cuántos fueron clasificados incorrectamente."
   ]
  },
  {
   "cell_type": "code",
   "execution_count": 9,
   "id": "c322d1ac",
   "metadata": {},
   "outputs": [
    {
     "data": {
      "image/png": "[encoded data removed]",
      "text/plain": [
       "<Figure size 640x480 with 2 Axes>"
      ]
     },
     "metadata": {},
     "output_type": "display_data"
    }
   ],
   "source": [
    "cm = confusion_matrix(y_test, y_pred)\n",
    "ConfusionMatrixDisplay(cm).plot()\n",
    "plt.show()"
   ]
  },
  {
   "cell_type": "markdown",
   "id": "75e6cc5a",
   "metadata": {},
   "source": [
    "**MÉTRICAS DE EVALUACIÓN**\n",
    "* **Exactitud (Accuracy):** es la proporción de predicciones correctas (verdaderos positivos y verdaderos negativos) con respecto al total de predicciones realizadas. Es una métrica fácil de entender, pero puede no ser la mejor elección cuando las clases están desequilibradas.\n",
    "* **Precisión (Precision):** mide la proporción de verdaderos positivos con respecto a todas las predicciones positivas realizadas. Es útil cuando el costo de los falsos positivos es alto y deseas minimizarlos.\n",
    " * **Recall (Recuperación o Sensibilidad):** mide la proporción de verdaderos positivos con respecto a todos los casos reales positivos en los datos. Es útil cuando el costo de los falsos negativos es alto y deseas minimizarlos.    \n",
    "* **F1-Score:** es la media armónica de precisión y recall. Es útil cuando deseas equilibrar la precisión y el recall en tu evaluación. Puede ser especialmente útil en situaciones de clases desequilibradas.   "
   ]
  },
  {
   "cell_type": "code",
   "execution_count": 10,
   "id": "27558447",
   "metadata": {},
   "outputs": [
    {
     "name": "stdout",
     "output_type": "stream",
     "text": [
      "Accuracy del modelo:  0.75\n",
      "Precisión: 0.65\n",
      "Recall: 0.67\n",
      "F1 score: 0.66\n"
     ]
    }
   ],
   "source": [
    "# Evaluar el rendimiento del modelo\n",
    "\n",
    "print(\"Accuracy del modelo: \",round(accuracy_score(y_test, y_pred),2))\n",
    "print(\"Precisión:\", round(precision_score(y_test, y_pred),2))\n",
    "print(\"Recall:\", round(recall_score(y_test, y_pred),2))\n",
    "print(\"F1 score:\", round(f1_score(y_test, y_pred),2))"
   ]
  },
  {
   "cell_type": "code",
   "execution_count": 11,
   "id": "bf37e144",
   "metadata": {
    "scrolled": false
   },
   "outputs": [
    {
     "name": "stdout",
     "output_type": "stream",
     "text": [
      "\n",
      "Reporte de clasificación:\n",
      "              precision    recall  f1-score   support\n",
      "\n",
      "           0       0.81      0.80      0.81        99\n",
      "           1       0.65      0.67      0.66        55\n",
      "\n",
      "    accuracy                           0.75       154\n",
      "   macro avg       0.73      0.74      0.73       154\n",
      "weighted avg       0.76      0.75      0.75       154\n",
      "\n"
     ]
    }
   ],
   "source": [
    "classification_rep = classification_report(y_test, y_pred)\n",
    "print(f\"\\nReporte de clasificación:\\n{classification_rep}\")"
   ]
  },
  {
   "cell_type": "markdown",
   "id": "97dc28d1",
   "metadata": {},
   "source": [
    "**ELIMINAREMOS AQUELLOS FILAS DE LOS CAMPOS (Glucose, BMI,BloodPressure) QUE CONTIENEN 0 A FIN DE CORROBORAR SI OBTENEMOS MEJORAS EN LOS RESULTADOS**"
   ]
  },
  {
   "cell_type": "code",
   "execution_count": 12,
   "id": "38c263a1",
   "metadata": {},
   "outputs": [
    {
     "name": "stdout",
     "output_type": "stream",
     "text": [
      "(724, 9)\n"
     ]
    }
   ],
   "source": [
    "df_diabetes_2 = df_diabetes.loc[(df_diabetes[\"Glucose\"] != 0) & (df_diabetes[\"BMI\"] != 0) & (df_diabetes[\"BloodPressure\"] != 0)]\n",
    "print(df_diabetes_2.shape)"
   ]
  },
  {
   "cell_type": "code",
   "execution_count": 13,
   "id": "3d5afd44",
   "metadata": {},
   "outputs": [],
   "source": [
    "# Dividir los datos en características (X) y la variable objetivo (y)\n",
    "X2 = df_diabetes_2.drop('Outcome', axis=1)  # Características\n",
    "\n",
    "y2 = df_diabetes_2['Outcome']  # Variable objetivo"
   ]
  },
  {
   "cell_type": "code",
   "execution_count": 14,
   "id": "1b432b61",
   "metadata": {},
   "outputs": [],
   "source": [
    "# Dividir el conjunto de datos en conjuntos de entrenamiento y prueba\n",
    "#stratify: La idea detrás de la estratificación es mantener la misma proporción de clases en ambos conjuntos, lo que es especialmente relevante cuando se trabaja con conjuntos de datos desequilibrados.\n",
    "#Shufle: la práctica de presentar los datos al modelo en un orden aleatorio durante la fase de entrenamiento para evitar sesgos y mejorar la generalización y la convergencia del modelo.\n",
    "#stratify=y,\n",
    "\n",
    "X_train2, X_test2, y_train2, y_test2 = train_test_split(X2, y2, test_size=0.2,shuffle = True,  random_state=42)\n",
    "\n",
    "# Escalar las características\n",
    "\n",
    "scaler = StandardScaler()\n",
    "X_train2 = scaler.fit_transform(X_train2)\n",
    "X_test2 = scaler.transform(X_test2)"
   ]
  },
  {
   "cell_type": "code",
   "execution_count": 15,
   "id": "aeef7534",
   "metadata": {},
   "outputs": [],
   "source": [
    "# Crear y entrenar el modelo de regresión logística\n",
    "model2 = LogisticRegression(random_state=42)\n",
    "model2.fit(X_train2, y_train2)\n",
    "\n",
    "# Realizar predicciones en el conjunto de prueba\n",
    "y_pred2 = model2.predict(X_test2)"
   ]
  },
  {
   "cell_type": "code",
   "execution_count": 16,
   "id": "f002b2f7",
   "metadata": {},
   "outputs": [
    {
     "data": {
      "image/png": "[encoded data removed]",
      "text/plain": [
       "<Figure size 640x480 with 2 Axes>"
      ]
     },
     "metadata": {},
     "output_type": "display_data"
    }
   ],
   "source": [
    "cm2 = confusion_matrix(y_test2, y_pred2)\n",
    "ConfusionMatrixDisplay(cm2).plot()\n",
    "plt.show()"
   ]
  },
  {
   "cell_type": "code",
   "execution_count": 17,
   "id": "916dde6c",
   "metadata": {},
   "outputs": [
    {
     "name": "stdout",
     "output_type": "stream",
     "text": [
      "Accuracy del modelo:  0.8\n",
      "Precisión: 0.68\n",
      "Recall: 0.63\n",
      "F1 score: 0.65\n"
     ]
    }
   ],
   "source": [
    "# Evaluar el rendimiento del modelo\n",
    "\n",
    "print(\"Accuracy del modelo: \",round(accuracy_score(y_test2, y_pred2),2))\n",
    "print(\"Precisión:\", round(precision_score(y_test2, y_pred2),2))\n",
    "print(\"Recall:\", round(recall_score(y_test2, y_pred2),2))\n",
    "print(\"F1 score:\", round(f1_score(y_test2, y_pred2),2))"
   ]
  },
  {
   "cell_type": "code",
   "execution_count": 18,
   "id": "39d81376",
   "metadata": {},
   "outputs": [
    {
     "name": "stdout",
     "output_type": "stream",
     "text": [
      "\n",
      "Reporte de clasificación:\n",
      "              precision    recall  f1-score   support\n",
      "\n",
      "           0       0.85      0.87      0.86       102\n",
      "           1       0.68      0.63      0.65        43\n",
      "\n",
      "    accuracy                           0.80       145\n",
      "   macro avg       0.76      0.75      0.76       145\n",
      "weighted avg       0.80      0.80      0.80       145\n",
      "\n"
     ]
    }
   ],
   "source": [
    "classification_rep2 = classification_report(y_test2, y_pred2)\n",
    "print(f\"\\nReporte de clasificación:\\n{classification_rep2}\")"
   ]
  },
  {
   "cell_type": "markdown",
   "id": "177c1236",
   "metadata": {},
   "source": [
    "**Primeras conclusiones:**    \n",
    "* El modelo inicial, con datos estandarizados, obtuvo un accuracy de 0.75. En el reporte de clasificación se verifica mayor precisión en la clase predominante que es la 0. Además, en la clase 1, se verifica un recall bajo. Esta combinación suele ser frecuente en casos de clases desbalanceadas.\n",
    "* Al eliminar las filas que contenían posibles errores en el registro del dato. Se mejora el accuracy a 0.8, y la precisión a 0.68. De todos modos sigue con mejor precisión en la clase predominante."
   ]
  },
  {
   "cell_type": "markdown",
   "id": "75f444bf",
   "metadata": {},
   "source": [
    "**RANDOM OVER SAMPLER:**\n",
    "* Vamos a crear muestras nuevas “sintéticas” de la clase minoritaria."
   ]
  },
  {
   "cell_type": "code",
   "execution_count": 33,
   "id": "a4f64239",
   "metadata": {},
   "outputs": [],
   "source": [
    "# Dividir los datos en características (X) y la variable objetivo (y)\n",
    "X3 = df_diabetes_2.drop('Outcome', axis=1)  # Características\n",
    "y3 = df_diabetes_2['Outcome']  # Variable objetivo"
   ]
  },
  {
   "cell_type": "code",
   "execution_count": 37,
   "id": "7efc1fe3",
   "metadata": {},
   "outputs": [],
   "source": [
    "X_train3, X_test3, y_train3, y_test3 = train_test_split(X3, y3, test_size=0.2,shuffle = True,  random_state=42)\n",
    "\n",
    "# Escalar las características\n",
    "\n",
    "scaler = StandardScaler()\n",
    "X_train3 = scaler.fit_transform(X_train3)\n",
    "X_test3 = scaler.transform(X_test3)"
   ]
  },
  {
   "cell_type": "code",
   "execution_count": 51,
   "id": "3c5d9708",
   "metadata": {},
   "outputs": [
    {
     "name": "stdout",
     "output_type": "stream",
     "text": [
      "Distribution before resampling Counter({0: 373, 1: 206})\n",
      "Distribution labels after resampling Counter({0: 373, 1: 373})\n"
     ]
    }
   ],
   "source": [
    "os =  RandomOverSampler(random_state=42)\n",
    "X_train_res, y_train_res = os.fit_resample(X_train3, y_train3)\n",
    "\n",
    "print (\"Distribution before resampling {}\".format(Counter(y_train3)))\n",
    "print (\"Distribution labels after resampling {}\".format(Counter(y_train_res)))"
   ]
  },
  {
   "cell_type": "code",
   "execution_count": 52,
   "id": "17cbed09",
   "metadata": {},
   "outputs": [],
   "source": [
    "model3 = LogisticRegression(random_state=42)\n",
    "model3.fit(X_train_res, y_train_res)\n",
    "\n",
    "# Realizar predicciones en el conjunto de prueba\n",
    "y_pred3 = model3.predict(X_test3)"
   ]
  },
  {
   "cell_type": "code",
   "execution_count": 53,
   "id": "01ea196c",
   "metadata": {},
   "outputs": [
    {
     "data": {
      "image/png": "[encoded data removed]",
      "text/plain": [
       "<Figure size 640x480 with 2 Axes>"
      ]
     },
     "metadata": {},
     "output_type": "display_data"
    }
   ],
   "source": [
    "cm3 = confusion_matrix(y_test3, y_pred3)\n",
    "ConfusionMatrixDisplay(cm3).plot()\n",
    "plt.show()"
   ]
  },
  {
   "cell_type": "code",
   "execution_count": 54,
   "id": "f95e62a6",
   "metadata": {},
   "outputs": [
    {
     "name": "stdout",
     "output_type": "stream",
     "text": [
      "Accuracy del modelo:  0.77\n",
      "Precisión: 0.58\n",
      "Recall: 0.72\n",
      "F1 score: 0.65\n"
     ]
    }
   ],
   "source": [
    "# Evaluar el rendimiento del modelo\n",
    "\n",
    "print(\"Accuracy del modelo: \",round(accuracy_score(y_test3, y_pred3),2))\n",
    "print(\"Precisión:\", round(precision_score(y_test3, y_pred3),2))\n",
    "print(\"Recall:\", round(recall_score(y_test3, y_pred3),2))\n",
    "print(\"F1 score:\", round(f1_score(y_test3, y_pred3),2))"
   ]
  },
  {
   "cell_type": "code",
   "execution_count": 55,
   "id": "222b82cb",
   "metadata": {},
   "outputs": [
    {
     "name": "stdout",
     "output_type": "stream",
     "text": [
      "\n",
      "Reporte de clasificación:\n",
      "              precision    recall  f1-score   support\n",
      "\n",
      "           0       0.87      0.78      0.82       102\n",
      "           1       0.58      0.72      0.65        43\n",
      "\n",
      "    accuracy                           0.77       145\n",
      "   macro avg       0.73      0.75      0.74       145\n",
      "weighted avg       0.79      0.77      0.77       145\n",
      "\n"
     ]
    }
   ],
   "source": [
    "classification_rep3 = classification_report(y_test3, y_pred3)\n",
    "print(f\"\\nReporte de clasificación:\\n{classification_rep3}\")"
   ]
  },
  {
   "cell_type": "markdown",
   "id": "2b267642",
   "metadata": {},
   "source": [
    "**Nuevas conclusiones:**    \n",
    "* Al crear muestras sintéticas de la clase minoritaria, se observa que el accuracy del modelo baja. En cuanto a la clase minoritaria, se aprecia que ha mejorado su recall, pero su precisión es menor que con el modelo que no tenía muestras sintéticas."
   ]
  }
 ],
 "metadata": {
  "colab": {
   "provenance": []
  },
  "kernelspec": {
   "display_name": "Python 3 (ipykernel)",
   "language": "python",
   "name": "python3"
  },
  "language_info": {
   "codemirror_mode": {
    "name": "ipython",
    "version": 3
   },
   "file_extension": ".py",
   "mimetype": "text/x-python",
   "name": "python",
   "nbconvert_exporter": "python",
   "pygments_lexer": "ipython3",
   "version": "3.10.12"
  }
 },
 "nbformat": 4,
 "nbformat_minor": 5
}
